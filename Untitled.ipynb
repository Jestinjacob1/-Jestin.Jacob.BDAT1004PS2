{
 "cells": [
  {
   "cell_type": "markdown",
   "metadata": {},
   "source": [
    "# Question 1\n",
    "### What value is displayed when the last expression (a) is evaluated? Explain your answer by indicating what happens in every executed statement."
   ]
  },
  {
   "cell_type": "code",
   "execution_count": 24,
   "metadata": {},
   "outputs": [],
   "source": [
    "a = 0                             # assign a variable\n",
    "def b():                         # assign a function\n",
    "    global a                   # making \"a\" as a global variable\n",
    "    a = c(a)                    # calling function \"c\" and passing the value of \"a\" to \"c\". The result of \"c\" then stores to \"a\" \n",
    "def c(a):                      # assign function \"c\"\n",
    "    return a + 2            # returns the value after adding \"a\" with 2 "
   ]
  },
  {
   "cell_type": "code",
   "execution_count": 25,
   "metadata": {},
   "outputs": [
    {
     "data": {
      "text/plain": [
       "6"
      ]
     },
     "execution_count": 25,
     "metadata": {},
     "output_type": "execute_result"
    }
   ],
   "source": [
    "b()                                # a=2\n",
    "b()                               # a=4\n",
    "b()                              # a=6\n",
    "a"
   ]
  },
  {
   "cell_type": "markdown",
   "metadata": {},
   "source": [
    "In this programme \"a\" is defined as 0 and that \"a\" is used inside the function b() and inside that function \"a\" is assigned as a global variable to access \"a\" outside the function b(), inside the function b() it calls another function c() and pass the value of \"a\" to function c(). Inside function c() it adds \"2\" with the value of \"a\" and returns the result and then it stores in \"a\".      \n",
    "To recapitulate, every execution of this function results in an addition of \"2\" in the variable \"a\"."
   ]
  },
  {
   "cell_type": "markdown",
   "metadata": {},
   "source": [
    "# Question 2 \n",
    "### Function fileLength(), given to you, takes the name of a file as input and returns the length of the file:\n",
    "> fileLength('midterm.py')    \n",
    "284    \n",
    "> fileLength('idterm.py')    \n",
    "Traceback (most recent call last):       \n",
    "File \"<pyshell#34>\", line 1, in <module> fileLength('idterm.py') File \"/Users/me/midterm.py\",   \n",
    "    line 3, in fileLength infile = open(filename) FileNotFoundError: [Errno 2] No such file or directory: 'idterm.py'\n",
    "\n",
    "### As shown above, if the file cannot be found by the interpreter or if it cannot be read as a text file, an exception will be raised. Modify function fileLength() so that a friendly message is printed instead:"
   ]
  },
  {
   "cell_type": "code",
   "execution_count": 112,
   "metadata": {},
   "outputs": [],
   "source": [
    "def fileLength(a):                                          #creating a function called fileLength()\n",
    "    try:                                                             #using try and except to get if there is any error while opening file\n",
    "        file = open(a, \"r\")                                      #opening file\n",
    "        fil=file.read()                                               #reading file to fil\n",
    "        print('Length of the file : '+ str(len(fil)))         #printing the length of file\n",
    "        file.close()                                                    #closing file\n",
    "    except:                                                           #except argument\n",
    "        print('File '+a+' not found.')                        #printing friendly message if there is no file\n",
    "    "
   ]
  },
  {
   "cell_type": "code",
   "execution_count": 113,
   "metadata": {},
   "outputs": [
    {
     "name": "stdout",
     "output_type": "stream",
     "text": [
      "Length of the file : 6121\n"
     ]
    }
   ],
   "source": [
    "fileLength('midterm.py')"
   ]
  },
  {
   "cell_type": "code",
   "execution_count": 28,
   "metadata": {},
   "outputs": [
    {
     "name": "stdout",
     "output_type": "stream",
     "text": [
      "File idterm.py not found.\n"
     ]
    }
   ],
   "source": [
    "fileLength('idterm.py')"
   ]
  },
  {
   "cell_type": "markdown",
   "metadata": {},
   "source": [
    "# Question 3 \n",
    "### Write a class named Marsupial that can be used as shown below:\n",
    "> m = Marsupial()   \n",
    "> m.put_in_pouch('doll')  \n",
    "> m.put_in_pouch('firetruck')  \n",
    "> m.put_in_pouch('kitten')  \n",
    "> m.pouch_contents()  \n",
    "['doll', 'firetruck', 'kitten']\n",
    "\n",
    "### Now write a class named Kangaroo as a subclass of Marsupial that inherits all the attributes of Marsupial and also:\n",
    "### a. extends the Marsupial __init__ constructor to take, as input, the coordinates x and y of the Kangaroo object,\n",
    "### b. supports method jump that takes number values dx and dy as input and moves the kangaroo by dx units along the x-axis and by dy units along the y-axis, and\n",
    "### c. overloads the __str__ operator so it behaves as shown below.\n",
    "\n",
    "> k = Kangaroo(0,0)    \n",
    "> print(k)     \n",
    "I am a Kangaroo located at coordinates (0,0)    \n",
    "> k.put_in_pouch('doll')    \n",
    "> k.put_in_pouch('firetruck')    \n",
    "> k.put_in_pouch('kitten')    \n",
    "> k.pouch_contents()    \n",
    "['doll', 'firetruck', 'kitten']    \n",
    "> k.jump(1,0)    \n",
    "> k.jump(1,0)   \n",
    "> k.jump(1,0)   \n",
    "> print(k)    \n",
    "I am a Kangaroo located at coordinates (3,0)"
   ]
  },
  {
   "cell_type": "code",
   "execution_count": 141,
   "metadata": {},
   "outputs": [],
   "source": [
    "class Marsupial(object):                     #making a class file called Marsupial\n",
    "    def __init__(self):                               #defining a init function to pass variables in different functions\n",
    "        self.lst = []                                          #creating a list\n",
    "    def put_in_pouch(self, item):                  #creating a put_in_pounch() function and passing items\n",
    "        self.lst.append(item)                             #the created list[] has appends the items inside a list\n",
    "    def pouch_contents(self):                          #creating a pouch_contents() function\n",
    "        return self.lst                                          #it returns the list "
   ]
  },
  {
   "cell_type": "code",
   "execution_count": 142,
   "metadata": {},
   "outputs": [
    {
     "data": {
      "text/plain": [
       "['doll', 'firetruck', 'kitten']"
      ]
     },
     "execution_count": 142,
     "metadata": {},
     "output_type": "execute_result"
    }
   ],
   "source": [
    "m = Marsupial()\n",
    "m.put_in_pouch('doll')\n",
    "m.put_in_pouch('firetruck')\n",
    "m.put_in_pouch('kitten')\n",
    "m.pouch_contents()"
   ]
  },
  {
   "cell_type": "code",
   "execution_count": 143,
   "metadata": {},
   "outputs": [],
   "source": [
    "class Kangaroo(Marsupial):                                    #creating a class file colled Kangaroo \n",
    "    def __init__(self,x,y):                                               #defining a init function to pass variables in different functions\n",
    "        Marsupial.__init__(self)                                            #extending the Marsupial init function\n",
    "        self.x = x                                                                      #making self.x and self.y to pass variables in multiple functions\n",
    "        self.y = y\n",
    "    def jump(self,dx,dy):                                                        #creating jump functing to move the values of x and y \n",
    "        self.x += dx\n",
    "        self.y += dy\n",
    "    def __str__(self):                                                           # function to return the position of function kangaroo after moving\n",
    "        return 'I am a Kangaroo located at coordinates ({},{})'.format(self.x,self.y)"
   ]
  },
  {
   "cell_type": "code",
   "execution_count": 144,
   "metadata": {},
   "outputs": [
    {
     "name": "stdout",
     "output_type": "stream",
     "text": [
      "I am a Kangaroo located at coordinates (0,0)\n"
     ]
    }
   ],
   "source": [
    "k = Kangaroo(0,0)\n",
    "print(k)"
   ]
  },
  {
   "cell_type": "code",
   "execution_count": 145,
   "metadata": {},
   "outputs": [
    {
     "data": {
      "text/plain": [
       "['doll', 'firetruck', 'kitten']"
      ]
     },
     "execution_count": 145,
     "metadata": {},
     "output_type": "execute_result"
    }
   ],
   "source": [
    "k.put_in_pouch('doll')\n",
    "k.put_in_pouch('firetruck')\n",
    "k.put_in_pouch('kitten')\n",
    "k.pouch_contents()"
   ]
  },
  {
   "cell_type": "code",
   "execution_count": 111,
   "metadata": {},
   "outputs": [
    {
     "name": "stdout",
     "output_type": "stream",
     "text": [
      "I am a Kangaroo located at coordinates (3,0)\n"
     ]
    }
   ],
   "source": [
    "k.jump(1,0)\n",
    "k.jump(1,0)\n",
    "k.jump(1,0)\n",
    "print(k)"
   ]
  },
  {
   "attachments": {
    "image.png": {
     "image/png": "[encoded data removed]"
    }
   },
   "cell_type": "markdown",
   "metadata": {},
   "source": [
    "# Question 4\n",
    "### Implement a new GUI class App that combines user-defined tkinter widget classes Calculator and Mortgage displayed below: (This question can be done using a .py file)\n",
    ">Your GUI should look like this:\n",
    ">![image.png](attachment:image.png)"
   ]
  },
  {
   "cell_type": "code",
   "execution_count": 153,
   "metadata": {},
   "outputs": [],
   "source": [
    "from tkinter import Tk,Label,Entry,Button,RAISED     #imported the important modules\n",
    "\n",
    "root = Tk()                                          \n",
    "root.geometry(\"505x235\")                             #creating a canvas to put all the things measures are in pixel\n",
    "Entry(root,bg = \"gray\",width = 34).place(x = 287, y = 20)       #creating a calculator display column\n",
    "labels = [['MC','M+','M-','MR'],\n",
    "          ['C','√','x2','+' ],\n",
    "          ['7', '8', '9','-'],     \n",
    "          ['4', '5', '6','*'],     \n",
    "          ['1', '2', '3','/'],\n",
    "          ['0', '.', '+-','=']]                    #inserting the labels as a array\n",
    "x=255\n",
    "y=20\n",
    "k=10\n",
    "for r in range(6):                                #for loop which prints all the labels in the above arrey\n",
    "    y+=30\n",
    "    for c in range(4):\n",
    "        x+=30\n",
    "        Button(root,relief=RAISED,padx=k,text=labels[r][c]).place(x=x, y=y)    #all the labels are creating as buttons\n",
    "        x+=25\n",
    "    k=15\n",
    "    x=255   \n",
    "    \n",
    "Label(root, text = \"Loan Amount:\").place(x = 20,y = 50)             #creating additional entry boxes and its labels\n",
    "Entry(root).place(x = 150, y = 50) \n",
    "Label(root, text = \"Interest Rate:\").place(x = 20, y = 90)\n",
    "Entry(root).place(x = 150, y = 90) \n",
    "Label(root, text = \"Loan Terms:\").place(x = 20, y = 130)\n",
    "Entry(root).place(x = 150, y = 130)\n",
    "Button(root, text = \"Compute Mortgage\").place(x = 20, y = 170)\n",
    "Entry(root).place(x = 150, y = 170)\n",
    "root.mainloop()                                                   #making a loop to see continuously"
   ]
  },
  {
   "attachments": {
    "image.png": {
     "image/png": "[encoded data removed]"
    }
   },
   "cell_type": "markdown",
   "metadata": {},
   "source": [
    "![image.png](attachment:image.png)"
   ]
  },
  {
   "cell_type": "markdown",
   "metadata": {},
   "source": [
    "# Question 5\n",
    "### Write function collatz() that takes a positive integer x as input and prints the Collatz sequence starting at x. A Collatz sequence is obtained by repeatedly applying this rule to the previous number x in the sequence:\n",
    "### x = { 𝑥/2            𝑖𝑓 𝑥 𝑖𝑠 𝑒𝑣𝑒𝑛\n",
    "### x = { 3𝑥+1          𝑖𝑓 𝑥 𝑖𝑠 𝑜𝑑𝑑\n",
    "### Your function should stop when the sequence gets to number 1. Your implementation must be recursive, without any loops.\n",
    "> collatz(1)    \n",
    "1    \n",
    "> collatz(10)    \n",
    "10    \n",
    "5     \n",
    "16     \n",
    "8     \n",
    "4     \n",
    "2    \n",
    "1     \n"
   ]
  },
  {
   "cell_type": "code",
   "execution_count": 67,
   "metadata": {},
   "outputs": [],
   "source": [
    "def collatz(x):                                          #creating a function called collatz and passing a value x\n",
    "    if x != 1:                                               #if the value is not equal to 1 then;\n",
    "        if x%2!=0:                                          #if  the number is odd\n",
    "            print(int(x))                                      # print value\n",
    "            collatz(3*x+1)                                   # and again calls the same function\n",
    "        else:\n",
    "            print(int(x))                                         # if thenumber is even print it\n",
    "            collatz(x/2)                                       #again call the same function \n",
    "    else:\n",
    "        print(int(x));                                      # if the value is zero then print it"
   ]
  },
  {
   "cell_type": "code",
   "execution_count": 68,
   "metadata": {},
   "outputs": [
    {
     "name": "stdout",
     "output_type": "stream",
     "text": [
      "1\n"
     ]
    }
   ],
   "source": [
    "collatz(1)"
   ]
  },
  {
   "cell_type": "code",
   "execution_count": 69,
   "metadata": {},
   "outputs": [
    {
     "name": "stdout",
     "output_type": "stream",
     "text": [
      "10\n",
      "5\n",
      "16\n",
      "8\n",
      "4\n",
      "2\n",
      "1\n"
     ]
    }
   ],
   "source": [
    "collatz(10)"
   ]
  },
  {
   "cell_type": "markdown",
   "metadata": {},
   "source": [
    "# Question 6\n",
    "### Write a recursive method binary() that takes a non-negative integer n and prints the binary representation of integer n. \n",
    "> binary(0)     \n",
    "0       \n",
    "> binary(1)      \n",
    "1     \n",
    "> binary(3)      \n",
    "11      \n",
    "> binary(9)     \n",
    "1001"
   ]
  },
  {
   "cell_type": "code",
   "execution_count": 162,
   "metadata": {},
   "outputs": [],
   "source": [
    "def binary(n):                                 #creating function called binary()         \n",
    "    if n > 1:                                        #if the value is greater than 1 then calles the same function one more\n",
    "        binary(n//2)\n",
    "    print(n % 2,end='')                    #print the reminder till the n end to nothing"
   ]
  },
  {
   "cell_type": "code",
   "execution_count": 163,
   "metadata": {},
   "outputs": [
    {
     "name": "stdout",
     "output_type": "stream",
     "text": [
      "0"
     ]
    }
   ],
   "source": [
    "binary(0)\n"
   ]
  },
  {
   "cell_type": "code",
   "execution_count": 164,
   "metadata": {},
   "outputs": [
    {
     "name": "stdout",
     "output_type": "stream",
     "text": [
      "1"
     ]
    }
   ],
   "source": [
    "binary(1)"
   ]
  },
  {
   "cell_type": "code",
   "execution_count": 165,
   "metadata": {},
   "outputs": [
    {
     "name": "stdout",
     "output_type": "stream",
     "text": [
      "11"
     ]
    }
   ],
   "source": [
    "binary(3)"
   ]
  },
  {
   "cell_type": "code",
   "execution_count": 166,
   "metadata": {},
   "outputs": [
    {
     "name": "stdout",
     "output_type": "stream",
     "text": [
      "1001"
     ]
    }
   ],
   "source": [
    "binary(9)"
   ]
  },
  {
   "cell_type": "markdown",
   "metadata": {},
   "source": [
    "# Question 7\n",
    "### Implement a class named HeadingParser that can be used to parse an HTML document, and retrieve and print all the headings in the document. You should implement your class as a subclass of HTMLParser, defined in Standard Library module html.parser. When fed a string containing HTML code, your class shouldprint the headings, one per line and in the order in which they appear in the document. Each heading should be indented as follows: an h1 heading should have indentation 0, and h2 heading should have indentation 1, etc. Test your implementation using w3c.html.\n",
    "> infile = open('w3c.html')     \n",
    "> content = infile.read()     \n",
    "> infile.close()     \n",
    "> hp = HeadingParser()     \n",
    "> hp.feed(content)      \n",
    "W3C Mission      \n",
    "Principles      "
   ]
  },
  {
   "cell_type": "code",
   "execution_count": 137,
   "metadata": {},
   "outputs": [],
   "source": [
    "from html.parser import HTMLParser                  #importing modules\n",
    "class HeadingParser(HTMLParser):                       #creating a class called HeadingParser\n",
    "    def __init__(self):                                                   #making a self function\n",
    "        HTMLParser.__init__(self)                                    #making HeadingParser as a part of HTMLParser\n",
    "        self.head =0                                                           #creating a self variable\n",
    "        self.intend = \"\"\n",
    "    def handle_starttag(self, tag, attrs):                             #passing functions to a function which check head tag\n",
    "        if tag[:-1]=='h':\n",
    "            self.head = 'type'\n",
    "    def handle_data(self, data):                                           # data function which prints data if the head variable is enabled\n",
    "        if self.head==\"type\":\n",
    "            print(self.intend+ data)                                           # adding indentation and data then print the result\n",
    "            self.intend+= \"    \"\n",
    "            self.head=0                                                             #disablethe variable"
   ]
  },
  {
   "cell_type": "code",
   "execution_count": 138,
   "metadata": {},
   "outputs": [
    {
     "name": "stdout",
     "output_type": "stream",
     "text": [
      "W3C Mission\n",
      "    Principles\n"
     ]
    }
   ],
   "source": [
    "infile = open('w3c.html')\n",
    "content = infile.read()\n",
    "infile.close()\n",
    "hp = HeadingParser()\n",
    "hp.feed(content)"
   ]
  },
  {
   "cell_type": "markdown",
   "metadata": {},
   "source": [
    "# Question 8 \n",
    "### Implement recursive function webdir() that takes as input: a URL (as a string) and non-negative integers depth and indent. Your function should visit every web page reachable from the starting URL web page in depth clicks or less, and print each web page's URL. As shown below, indentation, specified by indent, should be used to indicate the depth of a URL. \n",
    "> webdir('http://reed.cs.depaul.edu/lperkovic/csc242/test1.html', 2, 0)          \n",
    ">http://reed.cs.depaul.edu/lperkovic/csc242/test1.html     \n",
    "___http://reed.cs.depaul.edu/lperkovic/csc242/test2.html    \n",
    "_____http://reed.cs.depaul.edu/lperkovic/csc242/test4.html           \n",
    "___http://reed.cs.depaul.edu/lperkovic/csc242/test3.html      \n",
    "_____http://reed.cs.depaul.edu/lperkovic/csc242/test4.html"
   ]
  },
  {
   "cell_type": "code",
   "execution_count": 160,
   "metadata": {},
   "outputs": [],
   "source": [
    "from urllib.request import urlopen                             #importing the important modules\n",
    "from bs4 import BeautifulSoup as btf                        #using bs4 to get the url details\n",
    "from urllib.parse import urljoin \n",
    "\n",
    "def webdir(url,depth,indent):                                       #creating a function called webdir\n",
    "    print(url)                                                                     #printing the url we given\n",
    "    infile = urlopen(url)                                                      #open url and fetch html code\n",
    "    content = infile.read()\n",
    "    content = content.decode()                                       #decoding the byte to string\n",
    "    infile.close()\n",
    "    soup = btf(content,\"lxml\")                                          #parsing the decoded content\n",
    "    loop=1\n",
    "    for a in soup.find_all('a', href=True):                         #searching every href sentences one by one\n",
    "        at=a['href']\n",
    "        if at[:4]=='http':                                                         #printing statement with http\n",
    "            indent=\"    \"\n",
    "            #webdir(at,0,0)                                                     #making it a recursive to find href links inside the searched links\n",
    "            print(indent+at)\n",
    "            if loop==depth:                                                     #if the given depth is \"0\" then stop this process\n",
    "                break\n",
    "            else:\n",
    "                loop+=1\n",
    "        else:\n",
    "            url\n",
    "            indent=\"    \"\n",
    "            lops=urljoin(url, at)                                                #adding href sentence which does not start with http with the base url\n",
    "            #webdir(at,0,0)                                                      #calling recursively\n",
    "            print(indent+lops)\n",
    "            if loop==depth:\n",
    "                break\n",
    "            else:\n",
    "                loop+=1"
   ]
  },
  {
   "cell_type": "code",
   "execution_count": 161,
   "metadata": {},
   "outputs": [
    {
     "name": "stdout",
     "output_type": "stream",
     "text": [
      "https://www.w3.org/Consortium/mission.html\n",
      "    https://www.w3.org/\n",
      "    https://www.w3.org/standards/\n"
     ]
    }
   ],
   "source": [
    "webdir('https://www.w3.org/Consortium/mission.html', 2, 0)"
   ]
  },
  {
   "cell_type": "markdown",
   "metadata": {},
   "source": [
    "# Question 9\n",
    "### Write SQL queries on the below database table that return:\n",
    ">### a) All the temperature data.\n",
    ">### b) All the cities, but without repetition.\n",
    ">### c) All the records for India.\n",
    ">### d) All the Fall records.\n",
    ">### e) The city, country, and season for which the average rainfall is between 200 and 400 millimeters.\n",
    ">### f) The city and country for which the average Fall temperature is above 20 degrees, in increasing temperature order.\n",
    ">### g) The total annual rainfall for Cairo.\n",
    ">### h) The total rainfall for each season."
   ]
  },
  {
   "cell_type": "raw",
   "metadata": {},
   "source": [
    "a)  SELECT Temperature FROM database"
   ]
  },
  {
   "cell_type": "raw",
   "metadata": {},
   "source": [
    "b)  SELECT DISTINCT City FROM database"
   ]
  },
  {
   "cell_type": "raw",
   "metadata": {},
   "source": [
    "C) SELECT * FROM database\n",
    "     WHERE Country = 'India'\n"
   ]
  },
  {
   "cell_type": "raw",
   "metadata": {},
   "source": [
    "d) SELECT * FROM database\n",
    "     WHERE Season = 'Fall'\n"
   ]
  },
  {
   "cell_type": "raw",
   "metadata": {},
   "source": [
    "e)  SELECT City, Country, Season FROM database\n",
    "     WHERE Rainfall BETWEEN '200' AND '400'"
   ]
  },
  {
   "cell_type": "raw",
   "metadata": {},
   "source": [
    "f)  SELECT City, Country FROM database\n",
    "     WHERE Temperature > '20' AND Season= 'Fall'\n",
    "     ORDER by Temperature DESC"
   ]
  },
  {
   "cell_type": "raw",
   "metadata": {},
   "source": [
    "g) SELECT SUM(Temperature) FROM database\n",
    "    WHERE City='Cairo'"
   ]
  },
  {
   "cell_type": "raw",
   "metadata": {},
   "source": [
    "h) SELECT SUM(Rainfall),Season FROM database\n",
    "GROUP BY Season  "
   ]
  },
  {
   "cell_type": "markdown",
   "metadata": {},
   "source": [
    " # Question 10\n",
    "### Suppose list words is defined as follows:\n",
    "> words = ['The', 'quick', 'brown', 'fox', 'jumps', 'over', 'the', 'lazy', 'dog']      \n",
    "### Write list comprehension expressions that use list words and generate the following lists:     \n",
    ">a) ['THE', 'QUICK', 'BROWN', 'FOX', 'JUMPS', 'OVER', 'THE', 'LAZY', 'DOG']     \n",
    "b) ['the', 'quick', 'brown', 'fox', 'jumps', 'over', 'the', 'lazy', 'dog']     \n",
    "c) [3, 5, 5, 3, 5, 4, 3, 4, 3] (the list of lengths of words in list words).      \n",
    "d) [['THE', 'the', 3], ['QUICK', 'quick', 5], ['BROWN', 'brown', 5], ['FOX', 'fox', 3], ['JUMPS', 'jumps', 5], ['OVER', 'over', 4], ['THE', 'the', 3], ['LAZY', 'lazy', 4], ['DOG', 'dog', 3]] (the list containing a list for every word of list words, where each list contains the word in uppercase and lowercase and the length of the word.)       \n",
    "e) ['The', 'quick', 'brown', 'fox', 'jumps', 'over', 'the', 'lazy', 'dog'] (the list of words in list words containing 4 or more characters.)"
   ]
  },
  {
   "cell_type": "code",
   "execution_count": 40,
   "metadata": {},
   "outputs": [
    {
     "data": {
      "text/plain": [
       "['THE', 'QUICK', 'BROWN', 'FOX', 'JUMPS', 'OVER', 'THE', 'LAZY', 'DOG']"
      ]
     },
     "execution_count": 40,
     "metadata": {},
     "output_type": "execute_result"
    }
   ],
   "source": [
    "words = ['The', 'quick', 'brown', 'fox', 'jumps', 'over', 'the', 'lazy', 'dog']\n",
    "[q.upper() for q in words]\n"
   ]
  },
  {
   "cell_type": "code",
   "execution_count": 41,
   "metadata": {},
   "outputs": [
    {
     "data": {
      "text/plain": [
       "['the', 'quick', 'brown', 'fox', 'jumps', 'over', 'the', 'lazy', 'dog']"
      ]
     },
     "execution_count": 41,
     "metadata": {},
     "output_type": "execute_result"
    }
   ],
   "source": [
    "[q.lower() for q in words]\n"
   ]
  },
  {
   "cell_type": "code",
   "execution_count": 42,
   "metadata": {},
   "outputs": [
    {
     "data": {
      "text/plain": [
       "[3, 5, 5, 3, 5, 4, 3, 4, 3]"
      ]
     },
     "execution_count": 42,
     "metadata": {},
     "output_type": "execute_result"
    }
   ],
   "source": [
    "[len(q) for q in words]\n"
   ]
  },
  {
   "cell_type": "code",
   "execution_count": 130,
   "metadata": {},
   "outputs": [
    {
     "data": {
      "text/plain": [
       "[['THE', 'the', 3],\n",
       " ['QUICK', 'quick', 5],\n",
       " ['BROWN', 'brown', 5],\n",
       " ['FOX', 'fox', 3],\n",
       " ['JUMPS', 'jumps', 5],\n",
       " ['OVER', 'over', 4],\n",
       " ['THE', 'the', 3],\n",
       " ['LAZY', 'lazy', 4],\n",
       " ['DOG', 'dog', 3]]"
      ]
     },
     "execution_count": 130,
     "metadata": {},
     "output_type": "execute_result"
    }
   ],
   "source": [
    "[[q.upper(),q.lower(),len(q)] for q in words]"
   ]
  },
  {
   "cell_type": "code",
   "execution_count": 43,
   "metadata": {},
   "outputs": [
    {
     "data": {
      "text/plain": [
       "['quick', 'brown', 'jumps', 'over', 'lazy']"
      ]
     },
     "execution_count": 43,
     "metadata": {},
     "output_type": "execute_result"
    }
   ],
   "source": [
    "[q for q in words if len(q) >= 4]"
   ]
  }
 ],
 "metadata": {
  "kernelspec": {
   "display_name": "Python 3",
   "language": "python",
   "name": "python3"
  },
  "language_info": {
   "codemirror_mode": {
    "name": "ipython",
    "version": 3
   },
   "file_extension": ".py",
   "mimetype": "text/x-python",
   "name": "python",
   "nbconvert_exporter": "python",
   "pygments_lexer": "ipython3",
   "version": "3.6.5"
  }
 },
 "nbformat": 4,
 "nbformat_minor": 2
}
